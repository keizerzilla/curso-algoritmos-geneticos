{
 "cells": [
  {
   "cell_type": "markdown",
   "id": "fef4cb02-acaf-4f94-a51c-a33eb5be3f85",
   "metadata": {},
   "source": [
    "## Aula 01: Problema\n",
    "\n",
    "### Encontre os valores de $a$, $b$, $c$ e $d$ que satisfazem a equação $a + 2b + 3c + 4d = 30$"
   ]
  },
  {
   "cell_type": "code",
   "execution_count": 1,
   "id": "50655eff-28ee-4129-8951-4aa01409c6fb",
   "metadata": {},
   "outputs": [],
   "source": [
    "import random"
   ]
  },
  {
   "cell_type": "code",
   "execution_count": 2,
   "id": "7ac81cd7-0389-40e9-a32f-6332fca7b438",
   "metadata": {},
   "outputs": [],
   "source": [
    "def init(size):\n",
    "    pop = []\n",
    "    \n",
    "    for i in range(size):\n",
    "        a = random.randint(0, 20)\n",
    "        b = random.randint(0, 20)\n",
    "        c = random.randint(0, 20)\n",
    "        d = random.randint(0, 20)\n",
    "        solution = [a, b, c, d]\n",
    "        \n",
    "        pop.append(solution)\n",
    "    \n",
    "    return pop"
   ]
  },
  {
   "cell_type": "code",
   "execution_count": 3,
   "id": "942a0ee1-da32-4bcf-af0b-ab158e65a5bf",
   "metadata": {},
   "outputs": [],
   "source": [
    "def objective_function(pop):\n",
    "    objfunc = []\n",
    "    \n",
    "    for s in pop:\n",
    "        v = (s[0] + 2*s[1] + 3*s[2] + 4*s[3]) - 30\n",
    "        v = abs(v)\n",
    "        \n",
    "        objfunc.append(v)\n",
    "    \n",
    "    return objfunc"
   ]
  },
  {
   "cell_type": "code",
   "execution_count": 4,
   "id": "cc99d83b-575a-47e2-9982-e74491f71713",
   "metadata": {},
   "outputs": [],
   "source": [
    "def fitness(objfunc):\n",
    "    fit = []\n",
    "    \n",
    "    for of in objfunc:\n",
    "        f = 1 / (1 + of)\n",
    "        \n",
    "        fit.append(f)\n",
    "    \n",
    "    total_fit = sum(fit)\n",
    "    \n",
    "    prob = []\n",
    "    \n",
    "    for f in fit:\n",
    "        p = f / total_fit\n",
    "        \n",
    "        prob.append(p)\n",
    "    \n",
    "    return fit, prob"
   ]
  },
  {
   "cell_type": "code",
   "execution_count": 5,
   "id": "31bb98a0-a7d8-4c36-8a52-9699bcc33841",
   "metadata": {},
   "outputs": [],
   "source": [
    "def selection(pop, prob):\n",
    "    new_pop = random.choices(pop, weights=prob, k=len(pop))\n",
    "    \n",
    "    return new_pop"
   ]
  },
  {
   "cell_type": "code",
   "execution_count": 6,
   "id": "174f4da0-9c38-4a0b-9561-65a713465d18",
   "metadata": {},
   "outputs": [],
   "source": [
    "def crossover(pop, rate=0.25):\n",
    "    parents = []\n",
    "    new_pop = []\n",
    "    \n",
    "    for p in pop:\n",
    "        chance = random.uniform(0, 1)\n",
    "        \n",
    "        if chance <= rate:\n",
    "            parents.append(p)\n",
    "        else:\n",
    "            new_pop.append(p)\n",
    "    \n",
    "    for i in range(len(parents)):\n",
    "        p1 = parents[i]\n",
    "        p2 = parents[(i + 1) % len(parents)]\n",
    "        \n",
    "        cut_point = random.choice([0, 1, 2])\n",
    "        child = p1[:cut_point] + p2[cut_point:]\n",
    "        \n",
    "        new_pop.append(child)\n",
    "    \n",
    "    return new_pop"
   ]
  },
  {
   "cell_type": "code",
   "execution_count": 7,
   "id": "752f8f6c-993f-44f4-873f-5309643ae884",
   "metadata": {},
   "outputs": [],
   "source": [
    "def mutation(pop, rate=0.25):\n",
    "    new_pop = []\n",
    "    \n",
    "    for p in pop:\n",
    "        chance = random.uniform(0, 1)\n",
    "        \n",
    "        if chance <= rate:\n",
    "            mutation_point = random.choice([0, 1, 2, 3])\n",
    "            p[mutation_point] = random.randint(0, 20)\n",
    "            new_pop.append(p)\n",
    "        else:\n",
    "            new_pop.append(p)\n",
    "    \n",
    "    return new_pop"
   ]
  },
  {
   "cell_type": "markdown",
   "id": "9fba5b37-8ce3-486e-a070-271f16b004e0",
   "metadata": {},
   "source": [
    "## Algoritmo Final"
   ]
  },
  {
   "cell_type": "code",
   "execution_count": 8,
   "id": "fe40a78b-dc2b-4022-932a-9b7889c8774d",
   "metadata": {},
   "outputs": [
    {
     "name": "stdout",
     "output_type": "stream",
     "text": [
      "Melhor solução encontrada na geração 3: [4, 3, 0, 5]\n"
     ]
    }
   ],
   "source": [
    "num_generations = 100\n",
    "\n",
    "pop = init(100)\n",
    "for i in range(num_generations):\n",
    "    objfunc = objective_function(pop)\n",
    "    \n",
    "    try:\n",
    "        best = objfunc.index(0)\n",
    "        print(f\"Melhor solução encontrada na geração {i}: {pop[best]}\")\n",
    "        break\n",
    "    except ValueError:\n",
    "        pass\n",
    "    \n",
    "    fit, prob = fitness(objfunc)\n",
    "    pop = selection(pop, prob)\n",
    "    pop = crossover(pop)\n",
    "    pop = mutation(pop)"
   ]
  }
 ],
 "metadata": {
  "kernelspec": {
   "display_name": "Python 3 (ipykernel)",
   "language": "python",
   "name": "python3"
  },
  "language_info": {
   "codemirror_mode": {
    "name": "ipython",
    "version": 3
   },
   "file_extension": ".py",
   "mimetype": "text/x-python",
   "name": "python",
   "nbconvert_exporter": "python",
   "pygments_lexer": "ipython3",
   "version": "3.9.13"
  }
 },
 "nbformat": 4,
 "nbformat_minor": 5
}
