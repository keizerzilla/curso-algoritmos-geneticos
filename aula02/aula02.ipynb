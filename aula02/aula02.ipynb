{
 "cells": [
  {
   "cell_type": "markdown",
   "id": "fef4cb02-acaf-4f94-a51c-a33eb5be3f85",
   "metadata": {},
   "source": [
    "## Aula 01: Problema\n",
    "\n",
    "### Encontre os valores de $a$, $b$, $c$, $d$, $e$ e %f% que satisfazem a equação\n",
    "$$\n",
    "a + 2b + 3c + 4d + 5e + 6f = 420\n",
    "$$"
   ]
  },
  {
   "cell_type": "code",
   "execution_count": 1,
   "id": "50655eff-28ee-4129-8951-4aa01409c6fb",
   "metadata": {},
   "outputs": [],
   "source": [
    "import random\n",
    "import numpy as np"
   ]
  },
  {
   "cell_type": "code",
   "execution_count": 2,
   "id": "7ac81cd7-0389-40e9-a32f-6332fca7b438",
   "metadata": {},
   "outputs": [],
   "source": [
    "def init(size):\n",
    "    pop = []\n",
    "    \n",
    "    for i in range(size):\n",
    "        a = random.randint(-30, 30)\n",
    "        b = random.randint(-30, 30)\n",
    "        c = random.randint(-30, 30)\n",
    "        d = random.randint(-30, 30)\n",
    "        e = random.randint(-30, 30)\n",
    "        f = random.randint(-30, 30)\n",
    "        \n",
    "        solution = [a, b, c, d, e, f]\n",
    "        \n",
    "        pop.append(solution)\n",
    "    \n",
    "    return pop"
   ]
  },
  {
   "cell_type": "code",
   "execution_count": 3,
   "id": "942a0ee1-da32-4bcf-af0b-ab158e65a5bf",
   "metadata": {},
   "outputs": [],
   "source": [
    "def fitness(pop):\n",
    "    fit = []\n",
    "    obj = []\n",
    "    \n",
    "    for s in pop:\n",
    "        v = (s[0] + 2*s[1] + 3*s[2] + 4*s[3] + 5*s[4] + 6*s[5]) - 420\n",
    "        v = abs(v)\n",
    "        f = 1 / (1 + v)\n",
    "        \n",
    "        obj.append(v)\n",
    "        fit.append(f)\n",
    "    \n",
    "    return fit, obj"
   ]
  },
  {
   "cell_type": "code",
   "execution_count": 4,
   "id": "31bb98a0-a7d8-4c36-8a52-9699bcc33841",
   "metadata": {},
   "outputs": [],
   "source": [
    "def elitism_selection(pop, fit, num_parents):\n",
    "    sorted_pop = [p for _, p in sorted(zip(fit, pop), reverse=True)]\n",
    "    parents = sorted_pop[:num_parents]\n",
    "    \n",
    "    return parents"
   ]
  },
  {
   "cell_type": "code",
   "execution_count": 5,
   "id": "c8007359-bbee-42f4-80b7-43da20a17d24",
   "metadata": {},
   "outputs": [],
   "source": [
    "def steady_selection(pop, fit, num_parents):\n",
    "    sorted_pop = [p for _, p in sorted(zip(fit, pop), reverse=True)]\n",
    "    prob = np.linspace(0.5, 0.1, len(pop))\n",
    "    parents = random.choices(sorted_pop, weights=prob, k=num_parents)\n",
    "    \n",
    "    return parents"
   ]
  },
  {
   "cell_type": "code",
   "execution_count": 6,
   "id": "29140865-4579-494b-8fe0-2aae2b9e39ab",
   "metadata": {},
   "outputs": [],
   "source": [
    "def tournament_selection(pop, fit, num_parents):\n",
    "    parents = []\n",
    "    \n",
    "    for i in range(num_parents):\n",
    "        f1 = random.choice(list(range(len(pop))))\n",
    "        f2 = random.choice(list(range(len(pop))))\n",
    "        \n",
    "        if fit[f1] >= fit[f2]:\n",
    "            parents.append(pop[f1])\n",
    "        else:\n",
    "            parents.append(pop[f2])\n",
    "    \n",
    "    return parents"
   ]
  },
  {
   "cell_type": "code",
   "execution_count": 7,
   "id": "7d533807-7d34-4cb6-b16d-8ef054d8c169",
   "metadata": {},
   "outputs": [],
   "source": [
    "def roulette_selection(pop, fit, num_parents):\n",
    "    total_fit = sum(fit)\n",
    "    prob = []\n",
    "    \n",
    "    for f in fit:\n",
    "        p = f / total_fit\n",
    "        \n",
    "        prob.append(p)\n",
    "    \n",
    "    parents = random.choices(pop, weights=prob, k=num_parents)\n",
    "    \n",
    "    return parents"
   ]
  },
  {
   "cell_type": "code",
   "execution_count": 8,
   "id": "174f4da0-9c38-4a0b-9561-65a713465d18",
   "metadata": {},
   "outputs": [],
   "source": [
    "def crossover(parents):\n",
    "    children = []\n",
    "    \n",
    "    for i in range(len(parents)):\n",
    "        p1 = parents[i]\n",
    "        p2 = parents[(i + 1) % len(parents)]\n",
    "        \n",
    "        cut_point = random.choice([0, 1, 2])\n",
    "        child = p1[:cut_point] + p2[cut_point:]\n",
    "        \n",
    "        children.append(child)\n",
    "    \n",
    "    return children"
   ]
  },
  {
   "cell_type": "code",
   "execution_count": 9,
   "id": "752f8f6c-993f-44f4-873f-5309643ae884",
   "metadata": {},
   "outputs": [],
   "source": [
    "def mutation(pop, rate=0.25):\n",
    "    new_pop = []\n",
    "    \n",
    "    for p in pop:\n",
    "        chance = random.uniform(0, 1)\n",
    "        \n",
    "        if chance <= rate:\n",
    "            mutation_point = random.choice([0, 1, 2, 3, 4, 5])\n",
    "            p[mutation_point] = random.randint(-30, 30)\n",
    "            new_pop.append(p)\n",
    "        else:\n",
    "            new_pop.append(p)\n",
    "    \n",
    "    return new_pop"
   ]
  },
  {
   "cell_type": "markdown",
   "id": "9fba5b37-8ce3-486e-a070-271f16b004e0",
   "metadata": {},
   "source": [
    "## Algoritmo Final"
   ]
  },
  {
   "cell_type": "code",
   "execution_count": 10,
   "id": "fe40a78b-dc2b-4022-932a-9b7889c8774d",
   "metadata": {},
   "outputs": [],
   "source": [
    "def genetic_algorithm(selection_strategy):\n",
    "    num_generations = 1000\n",
    "    pop_size = 10\n",
    "    num_parents = 5\n",
    "    best = 0\n",
    "    final_generation = -1\n",
    "\n",
    "    pop = init(pop_size)\n",
    "    for i in range(num_generations):\n",
    "        fit, obj = fitness(pop)\n",
    "\n",
    "        try:\n",
    "            best = obj.index(0)\n",
    "            final_generation = i\n",
    "            break\n",
    "        except ValueError:\n",
    "            pass\n",
    "        \n",
    "        parents = selection_strategy(pop, fit, num_parents)\n",
    "\n",
    "        children = crossover(parents)\n",
    "        pop = parents + children\n",
    "        pop = mutation(pop)\n",
    "    \n",
    "    return pop[best], final_generation"
   ]
  },
  {
   "cell_type": "code",
   "execution_count": 11,
   "id": "1c01e461-9e04-4611-b6ed-d62a5f882e28",
   "metadata": {},
   "outputs": [
    {
     "name": "stdout",
     "output_type": "stream",
     "text": [
      "Melhor solução encontrada na geração 139: [4, 27, 22, 27, 22, 13]\n"
     ]
    }
   ],
   "source": [
    "best, final_generation = genetic_algorithm(elitism_selection)\n",
    "\n",
    "if final_generation != -1:\n",
    "    print(f\"Melhor solução encontrada na geração {final_generation}: {best}\")\n",
    "else:\n",
    "    print(\"O algoritmo chegou ao final das iterações, mas não encontrou a solução...\")"
   ]
  },
  {
   "cell_type": "markdown",
   "id": "6782610c-d6fb-4175-85c4-f81f573f2910",
   "metadata": {},
   "source": [
    "## Extra: existe melhor estratégia de seleção pra esse problema?"
   ]
  },
  {
   "cell_type": "code",
   "execution_count": 12,
   "id": "891cd7f3-4d80-4dd1-addb-59f4869d5fb3",
   "metadata": {},
   "outputs": [
    {
     "name": "stdout",
     "output_type": "stream",
     "text": [
      "Executando 1000 execuções usando Elitismo...\n",
      "Elitismo testado!\n",
      "Executando 1000 execuções usando Estável...\n",
      "Estável testado!\n",
      "Executando 1000 execuções usando Torneio...\n",
      "Torneio testado!\n",
      "Executando 1000 execuções usando Roleta...\n",
      "Roleta testado!\n"
     ]
    }
   ],
   "source": [
    "strategies = {\n",
    "    \"Elitismo\" : elitism_selection,\n",
    "    \"Estável\"  : steady_selection,\n",
    "    \"Torneio\"  : tournament_selection,\n",
    "    \"Roleta\"   : roulette_selection,\n",
    "}\n",
    "\n",
    "num_runs = 1000\n",
    "dump = {\n",
    "    \"Elitismo\" : [],\n",
    "    \"Estável\"  : [],\n",
    "    \"Torneio\"  : [],\n",
    "    \"Roleta\"   : [],\n",
    "}\n",
    "for strategy, func in strategies.items():\n",
    "    print(f\"Executando {num_runs} execuções usando {strategy}...\")\n",
    "    \n",
    "    for i in range(num_runs):\n",
    "        _, final_generation = genetic_algorithm(func)\n",
    "        dump[strategy].append(final_generation)\n",
    "    \n",
    "    print(f\"{strategy} testado!\")"
   ]
  },
  {
   "cell_type": "code",
   "execution_count": 13,
   "id": "483c2f43-ca83-4dda-bde7-9ed675c9f64c",
   "metadata": {},
   "outputs": [],
   "source": [
    "import pandas as pd\n",
    "import seaborn as sns\n",
    "from matplotlib import pyplot as plt"
   ]
  },
  {
   "cell_type": "code",
   "execution_count": 14,
   "id": "57cf3c04-a704-419d-a865-ee5569fc0f35",
   "metadata": {},
   "outputs": [],
   "source": [
    "sns.set()\n",
    "plt.rcParams[\"figure.figsize\"] = (12, 6)"
   ]
  },
  {
   "cell_type": "code",
   "execution_count": 15,
   "id": "a5bbc56e-6ccc-4697-a062-9ec9a74b63b9",
   "metadata": {},
   "outputs": [],
   "source": [
    "df = pd.DataFrame(dump)"
   ]
  },
  {
   "cell_type": "code",
   "execution_count": 16,
   "id": "244bacb7-c742-4fe8-87ec-45fa143adf1a",
   "metadata": {},
   "outputs": [
    {
     "data": {
      "text/html": [
       "<div>\n",
       "<style scoped>\n",
       "    .dataframe tbody tr th:only-of-type {\n",
       "        vertical-align: middle;\n",
       "    }\n",
       "\n",
       "    .dataframe tbody tr th {\n",
       "        vertical-align: top;\n",
       "    }\n",
       "\n",
       "    .dataframe thead th {\n",
       "        text-align: right;\n",
       "    }\n",
       "</style>\n",
       "<table border=\"1\" class=\"dataframe\">\n",
       "  <thead>\n",
       "    <tr style=\"text-align: right;\">\n",
       "      <th></th>\n",
       "      <th>Elitismo</th>\n",
       "      <th>Estável</th>\n",
       "      <th>Torneio</th>\n",
       "      <th>Roleta</th>\n",
       "    </tr>\n",
       "  </thead>\n",
       "  <tbody>\n",
       "    <tr>\n",
       "      <th>count</th>\n",
       "      <td>1000.000000</td>\n",
       "      <td>1000.000000</td>\n",
       "      <td>1000.000000</td>\n",
       "      <td>1000.000000</td>\n",
       "    </tr>\n",
       "    <tr>\n",
       "      <th>mean</th>\n",
       "      <td>131.240000</td>\n",
       "      <td>128.134000</td>\n",
       "      <td>105.660000</td>\n",
       "      <td>127.065000</td>\n",
       "    </tr>\n",
       "    <tr>\n",
       "      <th>std</th>\n",
       "      <td>150.285435</td>\n",
       "      <td>114.280778</td>\n",
       "      <td>91.929056</td>\n",
       "      <td>130.146805</td>\n",
       "    </tr>\n",
       "    <tr>\n",
       "      <th>min</th>\n",
       "      <td>-1.000000</td>\n",
       "      <td>0.000000</td>\n",
       "      <td>0.000000</td>\n",
       "      <td>-1.000000</td>\n",
       "    </tr>\n",
       "    <tr>\n",
       "      <th>25%</th>\n",
       "      <td>31.750000</td>\n",
       "      <td>49.750000</td>\n",
       "      <td>43.000000</td>\n",
       "      <td>41.000000</td>\n",
       "    </tr>\n",
       "    <tr>\n",
       "      <th>50%</th>\n",
       "      <td>74.000000</td>\n",
       "      <td>96.000000</td>\n",
       "      <td>80.000000</td>\n",
       "      <td>85.000000</td>\n",
       "    </tr>\n",
       "    <tr>\n",
       "      <th>75%</th>\n",
       "      <td>171.000000</td>\n",
       "      <td>170.250000</td>\n",
       "      <td>140.250000</td>\n",
       "      <td>167.000000</td>\n",
       "    </tr>\n",
       "    <tr>\n",
       "      <th>max</th>\n",
       "      <td>902.000000</td>\n",
       "      <td>859.000000</td>\n",
       "      <td>809.000000</td>\n",
       "      <td>966.000000</td>\n",
       "    </tr>\n",
       "  </tbody>\n",
       "</table>\n",
       "</div>"
      ],
      "text/plain": [
       "          Elitismo      Estável      Torneio       Roleta\n",
       "count  1000.000000  1000.000000  1000.000000  1000.000000\n",
       "mean    131.240000   128.134000   105.660000   127.065000\n",
       "std     150.285435   114.280778    91.929056   130.146805\n",
       "min      -1.000000     0.000000     0.000000    -1.000000\n",
       "25%      31.750000    49.750000    43.000000    41.000000\n",
       "50%      74.000000    96.000000    80.000000    85.000000\n",
       "75%     171.000000   170.250000   140.250000   167.000000\n",
       "max     902.000000   859.000000   809.000000   966.000000"
      ]
     },
     "execution_count": 16,
     "metadata": {},
     "output_type": "execute_result"
    }
   ],
   "source": [
    "df.describe()"
   ]
  },
  {
   "cell_type": "markdown",
   "id": "c4dd1269-dd6c-42f6-8ce0-c4290c548518",
   "metadata": {},
   "source": [
    "- Estratégias que apresentam valor mínimo -1 indicam que não alcançaram solução ótima em nenhuma das rodadas\n",
    "- A média indica que o Torneio chega à solução antes que os demais, mas a mediana (50%) indica que o Elitismo separa melhor rodadas rápidas de rodadas lentas (problema: Elistimo apresentou rodadas que falharam)\n",
    "- O desvio (std) também joga a favor do Torneio; um valor menor aqui indica menos variação em torno da média\n",
    "- A Roleta, de maneira geral, foi a pior estratégia: apresentou falhas, valor de geração final quase no limite das rodadas, média e desvio altos"
   ]
  }
 ],
 "metadata": {
  "kernelspec": {
   "display_name": "Python 3 (ipykernel)",
   "language": "python",
   "name": "python3"
  },
  "language_info": {
   "codemirror_mode": {
    "name": "ipython",
    "version": 3
   },
   "file_extension": ".py",
   "mimetype": "text/x-python",
   "name": "python",
   "nbconvert_exporter": "python",
   "pygments_lexer": "ipython3",
   "version": "3.9.13"
  }
 },
 "nbformat": 4,
 "nbformat_minor": 5
}
